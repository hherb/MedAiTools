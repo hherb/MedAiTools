{
 "cells": [
  {
   "cell_type": "code",
   "execution_count": null,
   "metadata": {},
   "outputs": [],
   "source": [
    "import StudyCritique as sc\n",
    "\n",
    "\n",
    "\n",
    "import panel as pn\n",
    "\n",
    "pn.extension('texteditor','terminal', loading_indicator=True)"
   ]
  },
  {
   "cell_type": "code",
   "execution_count": 30,
   "metadata": {},
   "outputs": [],
   "source": [
    "# Define a function to update the PDF widget based on the uploaded file       \n",
    "def update_pdf(event):                                                        \n",
    "    if event.new:    \n",
    "        #pdf_pane.object = file_input.value #event.new                                                       \n",
    "        print(f\"PDF file name = {file_input.filename}\")  \n",
    "        filepath=\"./library/\"+file_input.filename\n",
    "        with open(filepath, \"wb\") as f:\n",
    "            f.write(file_input.value)   \n",
    "        pdf_pane.object = filepath\n",
    "        #pdf_pane.object = event.new                                                       \n",
    "        study_critique = sc.StudyCritique()\n",
    "        text = study_critique.pdf2document(filepath)\n",
    "        summary=study_critique.summary(text)\n",
    "        critique=study_critique.critique(text)\n",
    "        print(summary)\n",
    "        print(critique)\n",
    "        #pdf_pane.object = event.new \n",
    "        summary_panel.object=f\"<html>{summary}</html>\"\n",
    "        critique_panel.object=f\"<html>{critique}</html>\"\n",
    "\n",
    "pdf_pane = pn.pane.PDF(\"pdf_sample.pdf\", sizing_mode='stretch_both', embed=True)\n",
    "file_input = pn.widgets.FileInput(accept=\".pdf\", sizing_mode='stretch_width')\n",
    "file_input.param.watch(update_pdf, 'value') \n",
    "\n",
    "pdf_panel=pn.Column(pdf_pane, file_input,sizing_mode='stretch_both' )\n",
    "\n"
   ]
  },
  {
   "cell_type": "code",
   "execution_count": 31,
   "metadata": {},
   "outputs": [],
   "source": [
    "summary_panel = pn.pane.HTML(\"<html>PDF summary</html>\", sizing_mode='stretch_both')"
   ]
  },
  {
   "cell_type": "code",
   "execution_count": 32,
   "metadata": {},
   "outputs": [
    {
     "name": "stderr",
     "output_type": "stream",
     "text": [
      "WARNING:param.Terminal: Providing a height-responsive sizing_mode ('stretch_both') and a fixed height is not supported. Converting fixed height to min_height. If you intended the component to be fully height-responsive remove the height setting, otherwise change it to min_height. To error on the incorrect specification disable the config.layout_compatibility option.\n"
     ]
    }
   ],
   "source": [
    "critique_panel = pn.pane.HTML(\"<html>Critique of study:</html>\", sizing_mode='stretch_both')"
   ]
  },
  {
   "cell_type": "code",
   "execution_count": 33,
   "metadata": {},
   "outputs": [],
   "source": [
    "notebook = pn.Tabs(('Summary', summary_panel), ('Critique', critique_panel), sizing_mode='stretch_both')\n"
   ]
  },
  {
   "cell_type": "code",
   "execution_count": null,
   "metadata": {},
   "outputs": [],
   "source": []
  },
  {
   "cell_type": "code",
   "execution_count": 34,
   "metadata": {},
   "outputs": [
    {
     "data": {
      "application/vnd.jupyter.widget-view+json": {
       "model_id": "be8e5b6a7e704a75939ef95e87176509",
       "version_major": 2,
       "version_minor": 0
      },
      "text/plain": [
       "BokehModel(combine_events=True, render_bundle={'docs_json': {'f7ae45d0-0512-404a-a167-113760588df2': {'version…"
      ]
     },
     "execution_count": 34,
     "metadata": {},
     "output_type": "execute_result"
    }
   ],
   "source": [
    "settings = pn.widgets.TextInput(name='Settings')\n",
    "search = pn.widgets.TextInput(name='Search')\n",
    "summaries = pn.Row(pdf_panel, notebook)\n",
    "\n",
    "# Create the accordion\n",
    "accordion = pn.Accordion(('Settings', settings), ('Search', search), ('Summaries', summaries))\n",
    "#panel=pn.Row(pdf_panel, notebook)\n",
    "panel=pn.Row(accordion, sizing_mode='stretch_both')\n",
    "panel.servable()"
   ]
  }
 ],
 "metadata": {
  "kernelspec": {
   "display_name": "RAGLibrarian",
   "language": "python",
   "name": "python3"
  },
  "language_info": {
   "codemirror_mode": {
    "name": "ipython",
    "version": 3
   },
   "file_extension": ".py",
   "mimetype": "text/x-python",
   "name": "python",
   "nbconvert_exporter": "python",
   "pygments_lexer": "ipython3",
   "version": "3.11.8"
  }
 },
 "nbformat": 4,
 "nbformat_minor": 2
}
